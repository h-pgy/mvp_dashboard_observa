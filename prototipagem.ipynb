{
 "cells": [
  {
   "cell_type": "code",
   "execution_count": 1,
   "id": "6d904a34-2d6a-43ca-862e-1091c837cc82",
   "metadata": {},
   "outputs": [],
   "source": [
    "import pandas as pd\n",
    "import geopandas as gpd\n",
    "\n",
    "from core.utils import solve_path"
   ]
  },
  {
   "cell_type": "code",
   "execution_count": 2,
   "id": "0e573bfe-4323-4019-840c-7f06785d9101",
   "metadata": {},
   "outputs": [],
   "source": [
    "from core.transform_data import TransformarIndicadores"
   ]
  },
  {
   "cell_type": "code",
   "execution_count": 3,
   "id": "71fe159b-17f4-4166-94af-f3782c1aafad",
   "metadata": {},
   "outputs": [],
   "source": [
    "df = pd.read_csv('data/csv_data/ObservaSampaDadosAbertosIndicadoresCSV.csv',\n",
    "           encoding='utf-8', sep=';')"
   ]
  },
  {
   "cell_type": "code",
   "execution_count": 4,
   "id": "2fe35bc7-09dc-4170-bf23-2bf25e0a5663",
   "metadata": {},
   "outputs": [],
   "source": [
    "distorcao_idade_ano = [\n",
    "    '04.01.03 Taxa de distorção da idade-ano para o ano no Ensino Fundamental nos anos iniciais (%)',\n",
    "   '04.01.04 Taxa de distorção da idade-ano para o ano no Ensino Fundamental nos anos finais (%)',\n",
    "]"
   ]
  },
  {
   "cell_type": "code",
   "execution_count": 5,
   "id": "d46f7512-5df8-481f-b1f9-ddc359cd2bc1",
   "metadata": {},
   "outputs": [],
   "source": [
    "raca_alunos = [\n",
    "    'Alunos da rede municipal de ensino da raça/cor amarela (%)',\n",
    "    'Alunos da rede municipal de ensino da raça/cor branca (%)',\n",
    "    'Alunos da rede municipal de ensino da raça/cor indígena (%)',\n",
    "    'Alunos da rede municipal de ensino da raça/cor parda (%)',\n",
    "    'Alunos da rede municipal de ensino da raça/cor preta (%)',\n",
    "       \n",
    "       ]"
   ]
  },
  {
   "cell_type": "code",
   "execution_count": 6,
   "id": "f9bc1d68-6e8c-4e76-8a75-76609dc23027",
   "metadata": {},
   "outputs": [],
   "source": [
    "abandono = [\n",
    "    'Taxa de abandono escolar no Ensino Fundamental da rede municipal (%)',\n",
    "   'Taxa de abandono escolar no Ensino Médio da rede municipal (%)',\n",
    "]"
   ]
  },
  {
   "cell_type": "code",
   "execution_count": 7,
   "id": "c0e2e62a-80a9-47f3-8976-61eb0d06e862",
   "metadata": {},
   "outputs": [],
   "source": [
    "def filtrar_distritos(df):\n",
    "    \n",
    "    mask = df['Região'].str.endswith('(Distrito)')\n",
    "    \n",
    "    return df[mask].copy().reset_index(drop=True)"
   ]
  },
  {
   "cell_type": "code",
   "execution_count": 8,
   "id": "19c0b9b0-7705-4a85-be16-5387cc9b761f",
   "metadata": {},
   "outputs": [],
   "source": [
    "indis_interesse = []\n",
    "indis_interesse.extend(distorcao_idade_ano)\n",
    "indis_interesse.extend(raca_alunos)\n",
    "indis_interesse.extend(abandono)\n"
   ]
  },
  {
   "cell_type": "code",
   "execution_count": 9,
   "id": "76f9890d-a457-4435-b5a9-0e754737ae2a",
   "metadata": {},
   "outputs": [],
   "source": [
    "interesse = df[df['Nome'].isin(indis_interesse)].reset_index(drop=True)"
   ]
  },
  {
   "cell_type": "code",
   "execution_count": 10,
   "id": "b3ba668f-cba5-4d9f-8c8f-19d3b7278cf0",
   "metadata": {},
   "outputs": [],
   "source": [
    "interesse = filtrar_distritos(interesse)"
   ]
  },
  {
   "cell_type": "code",
   "execution_count": 11,
   "id": "589cd2ee-d5bc-497f-b629-47ac27c0cb2a",
   "metadata": {},
   "outputs": [
    {
     "data": {
      "text/html": [
       "<div>\n",
       "<style scoped>\n",
       "    .dataframe tbody tr th:only-of-type {\n",
       "        vertical-align: middle;\n",
       "    }\n",
       "\n",
       "    .dataframe tbody tr th {\n",
       "        vertical-align: top;\n",
       "    }\n",
       "\n",
       "    .dataframe thead th {\n",
       "        text-align: right;\n",
       "    }\n",
       "</style>\n",
       "<table border=\"1\" class=\"dataframe\">\n",
       "  <thead>\n",
       "    <tr style=\"text-align: right;\">\n",
       "      <th></th>\n",
       "      <th>Nome</th>\n",
       "      <th>Região</th>\n",
       "      <th>Período</th>\n",
       "      <th>Resultado</th>\n",
       "    </tr>\n",
       "  </thead>\n",
       "  <tbody>\n",
       "    <tr>\n",
       "      <th>0</th>\n",
       "      <td>04.01.03 Taxa de distorção da idade-ano para o...</td>\n",
       "      <td>Água Rasa (Distrito)</td>\n",
       "      <td>2016</td>\n",
       "      <td>5,0107</td>\n",
       "    </tr>\n",
       "    <tr>\n",
       "      <th>1</th>\n",
       "      <td>04.01.03 Taxa de distorção da idade-ano para o...</td>\n",
       "      <td>Água Rasa (Distrito)</td>\n",
       "      <td>2018</td>\n",
       "      <td>6,4843</td>\n",
       "    </tr>\n",
       "    <tr>\n",
       "      <th>2</th>\n",
       "      <td>04.01.03 Taxa de distorção da idade-ano para o...</td>\n",
       "      <td>Água Rasa (Distrito)</td>\n",
       "      <td>2019</td>\n",
       "      <td>5,6323</td>\n",
       "    </tr>\n",
       "    <tr>\n",
       "      <th>3</th>\n",
       "      <td>04.01.03 Taxa de distorção da idade-ano para o...</td>\n",
       "      <td>Água Rasa (Distrito)</td>\n",
       "      <td>2017</td>\n",
       "      <td>6,8834</td>\n",
       "    </tr>\n",
       "    <tr>\n",
       "      <th>4</th>\n",
       "      <td>04.01.03 Taxa de distorção da idade-ano para o...</td>\n",
       "      <td>Água Rasa (Distrito)</td>\n",
       "      <td>2020</td>\n",
       "      <td>3,5599</td>\n",
       "    </tr>\n",
       "    <tr>\n",
       "      <th>...</th>\n",
       "      <td>...</td>\n",
       "      <td>...</td>\n",
       "      <td>...</td>\n",
       "      <td>...</td>\n",
       "    </tr>\n",
       "    <tr>\n",
       "      <th>4263</th>\n",
       "      <td>Taxa de abandono escolar no Ensino Médio da re...</td>\n",
       "      <td>Sapopemba (Distrito)</td>\n",
       "      <td>2008</td>\n",
       "      <td>4,2328</td>\n",
       "    </tr>\n",
       "    <tr>\n",
       "      <th>4264</th>\n",
       "      <td>Taxa de abandono escolar no Ensino Médio da re...</td>\n",
       "      <td>Sapopemba (Distrito)</td>\n",
       "      <td>2013</td>\n",
       "      <td>17,3913</td>\n",
       "    </tr>\n",
       "    <tr>\n",
       "      <th>4265</th>\n",
       "      <td>Taxa de abandono escolar no Ensino Médio da re...</td>\n",
       "      <td>Sapopemba (Distrito)</td>\n",
       "      <td>2018</td>\n",
       "      <td>10,2564</td>\n",
       "    </tr>\n",
       "    <tr>\n",
       "      <th>4266</th>\n",
       "      <td>Taxa de abandono escolar no Ensino Médio da re...</td>\n",
       "      <td>Sapopemba (Distrito)</td>\n",
       "      <td>2017</td>\n",
       "      <td>4,7458</td>\n",
       "    </tr>\n",
       "    <tr>\n",
       "      <th>4267</th>\n",
       "      <td>Taxa de abandono escolar no Ensino Médio da re...</td>\n",
       "      <td>Sapopemba (Distrito)</td>\n",
       "      <td>2012</td>\n",
       "      <td>16,6667</td>\n",
       "    </tr>\n",
       "  </tbody>\n",
       "</table>\n",
       "<p>4268 rows × 4 columns</p>\n",
       "</div>"
      ],
      "text/plain": [
       "                                                   Nome                Região  \\\n",
       "0     04.01.03 Taxa de distorção da idade-ano para o...  Água Rasa (Distrito)   \n",
       "1     04.01.03 Taxa de distorção da idade-ano para o...  Água Rasa (Distrito)   \n",
       "2     04.01.03 Taxa de distorção da idade-ano para o...  Água Rasa (Distrito)   \n",
       "3     04.01.03 Taxa de distorção da idade-ano para o...  Água Rasa (Distrito)   \n",
       "4     04.01.03 Taxa de distorção da idade-ano para o...  Água Rasa (Distrito)   \n",
       "...                                                 ...                   ...   \n",
       "4263  Taxa de abandono escolar no Ensino Médio da re...  Sapopemba (Distrito)   \n",
       "4264  Taxa de abandono escolar no Ensino Médio da re...  Sapopemba (Distrito)   \n",
       "4265  Taxa de abandono escolar no Ensino Médio da re...  Sapopemba (Distrito)   \n",
       "4266  Taxa de abandono escolar no Ensino Médio da re...  Sapopemba (Distrito)   \n",
       "4267  Taxa de abandono escolar no Ensino Médio da re...  Sapopemba (Distrito)   \n",
       "\n",
       "      Período Resultado  \n",
       "0        2016    5,0107  \n",
       "1        2018    6,4843  \n",
       "2        2019    5,6323  \n",
       "3        2017    6,8834  \n",
       "4        2020    3,5599  \n",
       "...       ...       ...  \n",
       "4263     2008    4,2328  \n",
       "4264     2013   17,3913  \n",
       "4265     2018   10,2564  \n",
       "4266     2017    4,7458  \n",
       "4267     2012   16,6667  \n",
       "\n",
       "[4268 rows x 4 columns]"
      ]
     },
     "execution_count": 11,
     "metadata": {},
     "output_type": "execute_result"
    }
   ],
   "source": [
    "interesse"
   ]
  },
  {
   "cell_type": "code",
   "execution_count": 12,
   "id": "ebded8aa-1f55-433b-bf04-5a6a1acd7ec3",
   "metadata": {},
   "outputs": [
    {
     "data": {
      "text/html": [
       "<div>\n",
       "<style scoped>\n",
       "    .dataframe tbody tr th:only-of-type {\n",
       "        vertical-align: middle;\n",
       "    }\n",
       "\n",
       "    .dataframe tbody tr th {\n",
       "        vertical-align: top;\n",
       "    }\n",
       "\n",
       "    .dataframe thead th {\n",
       "        text-align: right;\n",
       "    }\n",
       "</style>\n",
       "<table border=\"1\" class=\"dataframe\">\n",
       "  <thead>\n",
       "    <tr style=\"text-align: right;\">\n",
       "      <th></th>\n",
       "      <th>Região</th>\n",
       "      <th>Período</th>\n",
       "      <th>Resultado</th>\n",
       "    </tr>\n",
       "    <tr>\n",
       "      <th>Nome</th>\n",
       "      <th></th>\n",
       "      <th></th>\n",
       "      <th></th>\n",
       "    </tr>\n",
       "  </thead>\n",
       "  <tbody>\n",
       "    <tr>\n",
       "      <th>04.01.03 Taxa de distorção da idade-ano para o ano no Ensino Fundamental nos anos iniciais (%)</th>\n",
       "      <td>425</td>\n",
       "      <td>425</td>\n",
       "      <td>425</td>\n",
       "    </tr>\n",
       "    <tr>\n",
       "      <th>Alunos da rede municipal de ensino da raça/cor amarela (%)</th>\n",
       "      <td>558</td>\n",
       "      <td>558</td>\n",
       "      <td>558</td>\n",
       "    </tr>\n",
       "    <tr>\n",
       "      <th>Alunos da rede municipal de ensino da raça/cor branca (%)</th>\n",
       "      <td>558</td>\n",
       "      <td>558</td>\n",
       "      <td>558</td>\n",
       "    </tr>\n",
       "    <tr>\n",
       "      <th>Alunos da rede municipal de ensino da raça/cor indígena (%)</th>\n",
       "      <td>443</td>\n",
       "      <td>443</td>\n",
       "      <td>443</td>\n",
       "    </tr>\n",
       "    <tr>\n",
       "      <th>Alunos da rede municipal de ensino da raça/cor parda (%)</th>\n",
       "      <td>558</td>\n",
       "      <td>558</td>\n",
       "      <td>558</td>\n",
       "    </tr>\n",
       "    <tr>\n",
       "      <th>Alunos da rede municipal de ensino da raça/cor preta (%)</th>\n",
       "      <td>558</td>\n",
       "      <td>558</td>\n",
       "      <td>558</td>\n",
       "    </tr>\n",
       "    <tr>\n",
       "      <th>Taxa de abandono escolar no Ensino Fundamental da rede municipal (%)</th>\n",
       "      <td>1084</td>\n",
       "      <td>1084</td>\n",
       "      <td>1084</td>\n",
       "    </tr>\n",
       "    <tr>\n",
       "      <th>Taxa de abandono escolar no Ensino Médio da rede municipal (%)</th>\n",
       "      <td>84</td>\n",
       "      <td>84</td>\n",
       "      <td>84</td>\n",
       "    </tr>\n",
       "  </tbody>\n",
       "</table>\n",
       "</div>"
      ],
      "text/plain": [
       "                                                    Região  Período  Resultado\n",
       "Nome                                                                          \n",
       "04.01.03 Taxa de distorção da idade-ano para o ...     425      425        425\n",
       "Alunos da rede municipal de ensino da raça/cor ...     558      558        558\n",
       "Alunos da rede municipal de ensino da raça/cor ...     558      558        558\n",
       "Alunos da rede municipal de ensino da raça/cor ...     443      443        443\n",
       "Alunos da rede municipal de ensino da raça/cor ...     558      558        558\n",
       "Alunos da rede municipal de ensino da raça/cor ...     558      558        558\n",
       "Taxa de abandono escolar no Ensino Fundamental ...    1084     1084       1084\n",
       "Taxa de abandono escolar no Ensino Médio da red...      84       84         84"
      ]
     },
     "execution_count": 12,
     "metadata": {},
     "output_type": "execute_result"
    }
   ],
   "source": [
    "interesse.groupby('Nome').count()"
   ]
  },
  {
   "cell_type": "code",
   "execution_count": 13,
   "id": "5b2f12a5-6bbf-4520-9f08-deb1d68d7222",
   "metadata": {},
   "outputs": [],
   "source": [
    "def remover_acentos(name):\n",
    "    \n",
    "    acento_letra = {\n",
    "        'ç' : 'c',\n",
    "        'á' : 'a',\n",
    "        'â' : 'a',\n",
    "        'à' : 'a',\n",
    "        'ã' : 'a',\n",
    "        'ä' : 'a',\n",
    "        'é' : 'e',\n",
    "        'ê' : 'e',\n",
    "        'è' : 'e',\n",
    "        'ë' : 'e',\n",
    "        'í' : 'i',\n",
    "        'î' : 'i',\n",
    "        'ì' : 'i',\n",
    "        'ï' : 'i',\n",
    "        'ó' : 'o',\n",
    "        'ô' : 'o',\n",
    "        'ò' : 'o',\n",
    "        'ø' : 'o',\n",
    "        'õ' : 'o',\n",
    "        'ö' : 'o',\n",
    "        'ú' : 'u',\n",
    "        'û' : 'u',\n",
    "        'ù' : 'u',\n",
    "        'ü' : 'u',\n",
    "        'ñ' : 'n',\n",
    "        'ý' : 'y'\n",
    "    }\n",
    "    \n",
    "    chars = list(name)\n",
    "    \n",
    "    return ''.join([acento_letra.get(char, char) for char in chars])"
   ]
  },
  {
   "cell_type": "code",
   "execution_count": 14,
   "id": "a0013c90-d939-4e36-be4a-7e3bb0286406",
   "metadata": {},
   "outputs": [],
   "source": [
    "def clean_distrito_name(name):\n",
    "    \n",
    "    lowered = name.lower().replace('(distrito)', '').strip()\n",
    "    sem_acento = remover_acentos(lowered)\n",
    "    \n",
    "    return sem_acento.upper()"
   ]
  },
  {
   "cell_type": "code",
   "execution_count": 15,
   "id": "b3e6d6e3-ae0f-4ae9-acae-aa9c53638430",
   "metadata": {},
   "outputs": [],
   "source": [
    "interesse['ds_nome'] = interesse['Região'].apply(clean_distrito_name)"
   ]
  },
  {
   "cell_type": "code",
   "execution_count": 16,
   "id": "71a46301-f977-464a-9647-3ae80a574c88",
   "metadata": {},
   "outputs": [],
   "source": [
    "folder_maps = solve_path('maps', parent='static_files')"
   ]
  },
  {
   "cell_type": "code",
   "execution_count": 17,
   "id": "30b6a094-7207-4cd9-a226-9ad35e260a17",
   "metadata": {},
   "outputs": [],
   "source": [
    "folder_distritos = solve_path('distritos', parent=folder_maps)"
   ]
  },
  {
   "cell_type": "code",
   "execution_count": 18,
   "id": "899581ad-c471-4742-8e38-d0fd0c747c18",
   "metadata": {},
   "outputs": [],
   "source": [
    "shp_distritos = solve_path('SIRGAS_SHP_distrito_polygon.shp', parent=folder_distritos)"
   ]
  },
  {
   "cell_type": "code",
   "execution_count": 19,
   "id": "e2124c03-ae2f-4800-8fe9-f51416d310b6",
   "metadata": {},
   "outputs": [],
   "source": [
    "distritos= gpd.read_file(shp_distritos)"
   ]
  },
  {
   "cell_type": "code",
   "execution_count": 25,
   "id": "0cf16261-73ab-4837-8993-08241ee3bfea",
   "metadata": {},
   "outputs": [],
   "source": [
    "merged = pd.merge(interesse, distritos, on='ds_nome', how='left')"
   ]
  },
  {
   "cell_type": "code",
   "execution_count": 21,
   "id": "fc020015-b56d-4a66-b51c-9f65c9f66422",
   "metadata": {},
   "outputs": [
    {
     "data": {
      "text/plain": [
       "False"
      ]
     },
     "execution_count": 21,
     "metadata": {},
     "output_type": "execute_result"
    }
   ],
   "source": [
    "merged['geometry'].isnull().any()"
   ]
  },
  {
   "cell_type": "code",
   "execution_count": 22,
   "id": "b6f5fe99-112b-4600-b9e8-5465dc3bf02e",
   "metadata": {},
   "outputs": [
    {
     "data": {
      "text/plain": [
       "pandas.core.frame.DataFrame"
      ]
     },
     "execution_count": 22,
     "metadata": {},
     "output_type": "execute_result"
    }
   ],
   "source": [
    "type(merged)"
   ]
  },
  {
   "cell_type": "code",
   "execution_count": 23,
   "id": "82f50f5d-270e-42da-b396-c9e7ddebe294",
   "metadata": {},
   "outputs": [],
   "source": [
    "municipio_todo = distritos.dissolve()"
   ]
  },
  {
   "cell_type": "code",
   "execution_count": 27,
   "id": "768751c6-213e-467a-9ed5-00b6fe67459e",
   "metadata": {},
   "outputs": [
    {
     "data": {
      "text/html": [
       "<div>\n",
       "<style scoped>\n",
       "    .dataframe tbody tr th:only-of-type {\n",
       "        vertical-align: middle;\n",
       "    }\n",
       "\n",
       "    .dataframe tbody tr th {\n",
       "        vertical-align: top;\n",
       "    }\n",
       "\n",
       "    .dataframe thead th {\n",
       "        text-align: right;\n",
       "    }\n",
       "</style>\n",
       "<table border=\"1\" class=\"dataframe\">\n",
       "  <thead>\n",
       "    <tr style=\"text-align: right;\">\n",
       "      <th></th>\n",
       "      <th>ds_codigo</th>\n",
       "      <th>ds_subpref</th>\n",
       "      <th>ds_cd_sub</th>\n",
       "      <th>ds_sigla</th>\n",
       "      <th>ds_nome</th>\n",
       "      <th>geometry</th>\n",
       "    </tr>\n",
       "  </thead>\n",
       "  <tbody>\n",
       "    <tr>\n",
       "      <th>0</th>\n",
       "      <td>63</td>\n",
       "      <td>PIRITUBA-JARAGUA</td>\n",
       "      <td>02</td>\n",
       "      <td>PIR</td>\n",
       "      <td>PIRITUBA</td>\n",
       "      <td>POLYGON ((325109.668 7405122.828, 325106.786 7...</td>\n",
       "    </tr>\n",
       "    <tr>\n",
       "      <th>1</th>\n",
       "      <td>95</td>\n",
       "      <td>PIRITUBA-JARAGUA</td>\n",
       "      <td>02</td>\n",
       "      <td>SDO</td>\n",
       "      <td>SAO DOMINGOS</td>\n",
       "      <td>POLYGON ((319854.036 7402894.086, 319864.990 7...</td>\n",
       "    </tr>\n",
       "    <tr>\n",
       "      <th>2</th>\n",
       "      <td>42</td>\n",
       "      <td>PIRITUBA-JARAGUA</td>\n",
       "      <td>02</td>\n",
       "      <td>JAR</td>\n",
       "      <td>JARAGUA</td>\n",
       "      <td>POLYGON ((319172.403 7405179.204, 319174.204 7...</td>\n",
       "    </tr>\n",
       "    <tr>\n",
       "      <th>3</th>\n",
       "      <td>11</td>\n",
       "      <td>FREGUESIA-BRASILANDIA</td>\n",
       "      <td>03</td>\n",
       "      <td>BRL</td>\n",
       "      <td>BRASILANDIA</td>\n",
       "      <td>POLYGON ((324895.091 7404257.969, 324893.588 7...</td>\n",
       "    </tr>\n",
       "    <tr>\n",
       "      <th>4</th>\n",
       "      <td>29</td>\n",
       "      <td>FREGUESIA-BRASILANDIA</td>\n",
       "      <td>03</td>\n",
       "      <td>FRE</td>\n",
       "      <td>FREGUESIA DO O</td>\n",
       "      <td>POLYGON ((327469.803 7399113.522, 327449.180 7...</td>\n",
       "    </tr>\n",
       "    <tr>\n",
       "      <th>...</th>\n",
       "      <td>...</td>\n",
       "      <td>...</td>\n",
       "      <td>...</td>\n",
       "      <td>...</td>\n",
       "      <td>...</td>\n",
       "      <td>...</td>\n",
       "    </tr>\n",
       "    <tr>\n",
       "      <th>91</th>\n",
       "      <td>44</td>\n",
       "      <td>SAO MIGUEL</td>\n",
       "      <td>23</td>\n",
       "      <td>JDH</td>\n",
       "      <td>JARDIM HELENA</td>\n",
       "      <td>POLYGON ((352915.621 7402621.049, 352944.248 7...</td>\n",
       "    </tr>\n",
       "    <tr>\n",
       "      <th>92</th>\n",
       "      <td>24</td>\n",
       "      <td>ITAQUERA</td>\n",
       "      <td>27</td>\n",
       "      <td>CLD</td>\n",
       "      <td>CIDADE LIDER</td>\n",
       "      <td>POLYGON ((345181.289 7394204.666, 345180.470 7...</td>\n",
       "    </tr>\n",
       "    <tr>\n",
       "      <th>93</th>\n",
       "      <td>57</td>\n",
       "      <td>ITAQUERA</td>\n",
       "      <td>27</td>\n",
       "      <td>PQC</td>\n",
       "      <td>PARQUE DO CARMO</td>\n",
       "      <td>POLYGON ((352597.619 7390119.444, 352588.233 7...</td>\n",
       "    </tr>\n",
       "    <tr>\n",
       "      <th>94</th>\n",
       "      <td>47</td>\n",
       "      <td>ITAQUERA</td>\n",
       "      <td>27</td>\n",
       "      <td>JBO</td>\n",
       "      <td>JOSE BONIFACIO</td>\n",
       "      <td>POLYGON ((354091.203 7396702.971, 354091.662 7...</td>\n",
       "    </tr>\n",
       "    <tr>\n",
       "      <th>95</th>\n",
       "      <td>37</td>\n",
       "      <td>ITAQUERA</td>\n",
       "      <td>27</td>\n",
       "      <td>ITQ</td>\n",
       "      <td>ITAQUERA</td>\n",
       "      <td>POLYGON ((353774.566 7397490.309, 353781.566 7...</td>\n",
       "    </tr>\n",
       "  </tbody>\n",
       "</table>\n",
       "<p>96 rows × 6 columns</p>\n",
       "</div>"
      ],
      "text/plain": [
       "   ds_codigo             ds_subpref ds_cd_sub ds_sigla          ds_nome  \\\n",
       "0         63       PIRITUBA-JARAGUA        02      PIR         PIRITUBA   \n",
       "1         95       PIRITUBA-JARAGUA        02      SDO     SAO DOMINGOS   \n",
       "2         42       PIRITUBA-JARAGUA        02      JAR          JARAGUA   \n",
       "3         11  FREGUESIA-BRASILANDIA        03      BRL      BRASILANDIA   \n",
       "4         29  FREGUESIA-BRASILANDIA        03      FRE   FREGUESIA DO O   \n",
       "..       ...                    ...       ...      ...              ...   \n",
       "91        44             SAO MIGUEL        23      JDH    JARDIM HELENA   \n",
       "92        24               ITAQUERA        27      CLD     CIDADE LIDER   \n",
       "93        57               ITAQUERA        27      PQC  PARQUE DO CARMO   \n",
       "94        47               ITAQUERA        27      JBO   JOSE BONIFACIO   \n",
       "95        37               ITAQUERA        27      ITQ         ITAQUERA   \n",
       "\n",
       "                                             geometry  \n",
       "0   POLYGON ((325109.668 7405122.828, 325106.786 7...  \n",
       "1   POLYGON ((319854.036 7402894.086, 319864.990 7...  \n",
       "2   POLYGON ((319172.403 7405179.204, 319174.204 7...  \n",
       "3   POLYGON ((324895.091 7404257.969, 324893.588 7...  \n",
       "4   POLYGON ((327469.803 7399113.522, 327449.180 7...  \n",
       "..                                                ...  \n",
       "91  POLYGON ((352915.621 7402621.049, 352944.248 7...  \n",
       "92  POLYGON ((345181.289 7394204.666, 345180.470 7...  \n",
       "93  POLYGON ((352597.619 7390119.444, 352588.233 7...  \n",
       "94  POLYGON ((354091.203 7396702.971, 354091.662 7...  \n",
       "95  POLYGON ((353774.566 7397490.309, 353781.566 7...  \n",
       "\n",
       "[96 rows x 6 columns]"
      ]
     },
     "execution_count": 27,
     "metadata": {},
     "output_type": "execute_result"
    }
   ],
   "source": [
    "distritos.set_crs(epsg='3198')"
   ]
  },
  {
   "cell_type": "code",
   "execution_count": 1,
   "id": "9335b634-29e8-4747-ac29-87bf5d8cf172",
   "metadata": {},
   "outputs": [
    {
     "name": "stdout",
     "output_type": "stream",
     "text": [
      "qa\n"
     ]
    }
   ],
   "source": [
    "print('qa')"
   ]
  },
  {
   "cell_type": "code",
   "execution_count": null,
   "id": "33c87f54-c803-401d-a76d-a47d9da8d74c",
   "metadata": {},
   "outputs": [],
   "source": []
  }
 ],
 "metadata": {
  "kernelspec": {
   "display_name": "Python 3 (ipykernel)",
   "language": "python",
   "name": "python3"
  },
  "language_info": {
   "codemirror_mode": {
    "name": "ipython",
    "version": 3
   },
   "file_extension": ".py",
   "mimetype": "text/x-python",
   "name": "python",
   "nbconvert_exporter": "python",
   "pygments_lexer": "ipython3",
   "version": "3.9.7"
  }
 },
 "nbformat": 4,
 "nbformat_minor": 5
}
